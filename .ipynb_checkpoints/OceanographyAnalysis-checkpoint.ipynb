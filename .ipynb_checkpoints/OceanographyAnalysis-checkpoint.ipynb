{
 "cells": [
  {
   "cell_type": "markdown",
   "metadata": {
    "colab_type": "text",
    "id": "view-in-github"
   },
   "source": [
    "<a href=\"https://colab.research.google.com/github/olanrewajufarooq/MIROceanographyAnalysis/blob/main/Oceanography_Analysis.ipynb\" target=\"_parent\"><img src=\"https://colab.research.google.com/assets/colab-badge.svg\" alt=\"Open In Colab\"/></a>"
   ]
  },
  {
   "cell_type": "markdown",
   "metadata": {
    "id": "jbPIDWMgG9RW"
   },
   "source": [
    "# **Analysis of the Oceanographic Data**\n",
    "\n",
    "This notebook is used to analyse the data obtained from the Drifters and the CDT Casting on the Day 2 of the 2022/2023 Sea Trip. The information obtained is also compared with information from Day 1 and Day 3, likewise, the information from intake 1 (i.e. 2021/2022)."
   ]
  },
  {
   "cell_type": "markdown",
   "metadata": {
    "id": "D2GjHXiLG8_u"
   },
   "source": [
    "### Importing Necessary Modules for the Notebook"
   ]
  },
  {
   "cell_type": "code",
   "execution_count": null,
   "metadata": {
    "id": "Q2DM1Kg1w5Sl"
   },
   "outputs": [
    {
     "name": "stdout",
     "output_type": "stream",
     "text": [
      "Folium Library Imported\n",
      "...CTD Library not found\n"
     ]
    }
   ],
   "source": [
    "# Python-based Libraries\n",
    "import os\n",
    "from datetime import timedelta, time\n",
    "from math import sin, cos, sqrt, atan2, radians\n",
    "import datetime as dt\n",
    "\n",
    "# Data Analysis Libraries\n",
    "import numpy as np\n",
    "import pandas as pd\n",
    "\n",
    "# Graph plotting libraries\n",
    "import matplotlib.pyplot as plt\n",
    "from matplotlib import cm\n",
    "try:\n",
    "    import folium\n",
    "except ModuleNotFoundError: # If folium library is not installed\n",
    "    print(\"...Folium Library not found\")\n",
    "    !pip3 install folium\n",
    "    print(\"...Folium Library installed\")\n",
    "    import folium\n",
    "finally:\n",
    "    print(\"Folium Library Imported\")\n",
    "    \n",
    "# Importing the Module for CTD Analysis\n",
    "try:\n",
    "    import ctd\n",
    "except ModuleNotFoundError: # If ctd library is not installed\n",
    "    print(\"...CTD Library not found\")\n",
    "    #!pip install -U lazy_loader==0.1\n",
    "    !conda install -c conda-forge ctd\n",
    "    print(\"...CTD Library installed\")\n",
    "    import ctd\n",
    "finally:\n",
    "    print(\"CTD library Imported\")"
   ]
  },
  {
   "cell_type": "markdown",
   "metadata": {
    "id": "naldctVI4k5N"
   },
   "source": [
    "### Connecting to Path"
   ]
  },
  {
   "cell_type": "code",
   "execution_count": null,
   "metadata": {
    "colab": {
     "base_uri": "https://localhost:8080/"
    },
    "id": "BDjyYc8Y7IFx",
    "outputId": "5df7079c-ed43-45d6-fa39-2b2ae4da33f5"
   },
   "outputs": [],
   "source": [
    "# Defining the path of the Group folder on Google Drive\n",
    "path = \"./\"\n",
    "\n",
    "# Check if the files are accessible\n",
    "os.listdir(path)"
   ]
  },
  {
   "cell_type": "markdown",
   "metadata": {
    "id": "DOKrQqWmw5Sm"
   },
   "source": [
    "## Import Drifter Data\n",
    "\n"
   ]
  },
  {
   "cell_type": "code",
   "execution_count": null,
   "metadata": {
    "colab": {
     "base_uri": "https://localhost:8080/"
    },
    "id": "8ZsZOlbUw5Sn",
    "outputId": "e30f5e1b-b1c8-4a0f-8e95-7b5450109f46"
   },
   "outputs": [],
   "source": [
    "# Initializing a Dictionary datatype that stores data for each Drifter\n",
    "data = {}\n",
    "\n",
    "# Iterate through all file\n",
    "for file in os.listdir(f\"{path}/DriftersData\"):\n",
    "\n",
    "    # Data from the White Drifters are stored in \".csv\" formats using \"UTF-16 LE\" Encoding\n",
    "    if file.endswith(\".csv\"):\n",
    "        \n",
    "        data_key = file.split(\".\")[0][-4:] # Obtaining the name of the Drifter\n",
    "        data_value = pd.read_csv(f'{path}/DriftersData/{file}', encoding=\"UTF-16 LE\") #The encoding is very important.\n",
    "        data[data_key] = data_value # Storing the data in the \"data\" dictionary\n",
    "    \n",
    "    # Data from the Yellow Drifters are stored in \".txt\" formats using \"UTF-8\" Encoding\n",
    "    elif file.endswith(\".txt\"):\n",
    "        \n",
    "        data_key = file.split(\".\")[0][-3:] # Obtaining the name of the Drifter\n",
    "        data_value = pd.read_csv(f'{path}/DriftersData/{file}', encoding=\"UTF-8\") #The encoding is very important.\n",
    "        data[data_key] = data_value # Storing the data in the \"data\" dictionary\n",
    "\n",
    "# Show the names of all drifters for which the data has been read\n",
    "print(list(data.keys()))"
   ]
  },
  {
   "cell_type": "markdown",
   "metadata": {
    "id": "iy7aUZjgw5So"
   },
   "source": [
    "### Import the Logsheet"
   ]
  },
  {
   "cell_type": "code",
   "execution_count": null,
   "metadata": {
    "colab": {
     "base_uri": "https://localhost:8080/",
     "height": 206
    },
    "id": "IBhHrfI-w5Sp",
    "outputId": "8452e82e-a5ad-46bf-8715-760a676996b5"
   },
   "outputs": [],
   "source": [
    "log_df = pd.read_excel(f\"{path}/logsheet.xlsx\")\n",
    "\n",
    "# Convert the Deployment Time and the Time of Recovery to datetime objects in Pandas\n",
    "log_df['Deployment Time'] = pd.to_datetime(log_df['Deployment Time'],format= '%H:%M:%S' ).dt.time\n",
    "log_df['Time of Recovery'] = pd.to_datetime(log_df['Time of Recovery'],format= '%H:%M:%S' ).dt.time\n",
    "\n",
    "log_df.head(3)"
   ]
  },
  {
   "cell_type": "markdown",
   "metadata": {
    "id": "aIkZcbo4w5Sq"
   },
   "source": [
    "## **Data Cleaning**\n",
    "\n"
   ]
  },
  {
   "cell_type": "markdown",
   "metadata": {
    "id": "dL0uAF9wKyXS"
   },
   "source": [
    "### Converting the time from UTC to Paris Time"
   ]
  },
  {
   "cell_type": "code",
   "execution_count": null,
   "metadata": {
    "colab": {
     "base_uri": "https://localhost:8080/",
     "height": 143
    },
    "id": "ugTpXmTUw5Sq",
    "outputId": "c654aa1d-b07c-4229-d347-feb024c060a9"
   },
   "outputs": [],
   "source": [
    "# Checking the data from the yellow drifters\n",
    "data['273'].head(3)"
   ]
  },
  {
   "cell_type": "code",
   "execution_count": null,
   "metadata": {
    "colab": {
     "base_uri": "https://localhost:8080/",
     "height": 206
    },
    "id": "qwrJyQ6Cw5Sq",
    "outputId": "db58e425-1d20-434a-ad2f-936c9d68087f"
   },
   "outputs": [],
   "source": [
    "# Converting the UTC time to Paris Time [For Yellow Drifters]\n",
    "\n",
    "def DataClean_YDrifters(data_df):\n",
    "    data_df['Position time (UTC)'] = pd.to_datetime(data_df['Position time (UTC)'])\n",
    "    data_df['Reception time (UTC)'] = pd.to_datetime(data_df['Reception time (UTC)'])\n",
    "\n",
    "    data_df['Position time'] = data_df['Position time (UTC)'] + timedelta(hours = 2)\n",
    "    data_df['Reception time'] = data_df['Reception time (UTC)'] + timedelta(hours = 2)\n",
    "\n",
    "    data_df = data_df.drop(labels=['Position time (UTC)', 'Reception time (UTC)', 'Course (°)', 'Reception time',\n",
    "                                        'Status', 'Battery (V)'], axis=1)\n",
    "\n",
    "    data_df = data_df.rename(columns={\"Latitude (°)\":\"Latitude\", \"Longitude (°)\":\"Longitude\", \n",
    "                      \"Speed (m/s)\":\"Speed\", \"Temperature (°C)\":\"Temperature\"}, inplace=False)\n",
    "    \n",
    "    data_df[\"Position time\"] = data_df[\"Position time\"].dt.time\n",
    "    \n",
    "    return data_df"
   ]
  },
  {
   "cell_type": "code",
   "execution_count": null,
   "metadata": {
    "colab": {
     "base_uri": "https://localhost:8080/",
     "height": 143
    },
    "id": "97DneQBPw5Ss",
    "outputId": "53785fa8-3707-4bd1-b71a-d5369b56a3dc"
   },
   "outputs": [],
   "source": [
    "# Checking the data from others\n",
    "data['0119'].head(3)"
   ]
  },
  {
   "cell_type": "code",
   "execution_count": null,
   "metadata": {
    "colab": {
     "base_uri": "https://localhost:8080/"
    },
    "id": "EUBhCx3AD79w",
    "outputId": "7e39a35a-9e30-4aab-b957-c77320419ec1"
   },
   "outputs": [],
   "source": [
    "data['0119'].dtypes"
   ]
  },
  {
   "cell_type": "code",
   "execution_count": null,
   "metadata": {
    "id": "xJdGDcPIw5St"
   },
   "outputs": [],
   "source": [
    "# Converting the UTC time to Paris Time [For Other Drifters]\n",
    "\n",
    "def DataClean_ODrifters(data_df):\n",
    "\n",
    "    data_df['DeviceDateTime'] = pd.to_datetime(data_df['DeviceDateTime'])\n",
    "    data_df['DeviceDateTime'] = data_df['DeviceDateTime'] + timedelta(hours = 2)\n",
    "\n",
    "    data_df[\"Position time\"] = pd.to_datetime(data_df[\"DeviceDateTime\"]).dt.time\n",
    "    \n",
    "    data_df = data_df.drop(labels=['DeviceName', 'BatteryStatus', 'CommId', \"DeviceDateTime\"], axis=1)\n",
    "    \n",
    "    # Reversing the time to match Y drifter\n",
    "    data_df_re = data_df[::-1].reset_index(drop = True) \n",
    "    \n",
    "    return data_df_re"
   ]
  },
  {
   "cell_type": "code",
   "execution_count": null,
   "metadata": {
    "id": "KzKN-ywYw5St"
   },
   "outputs": [],
   "source": [
    "# Clean all data\n",
    "\n",
    "for key in data.keys():\n",
    "    if len(key) == 3:\n",
    "        data[key] = DataClean_YDrifters(data[key])\n",
    "    elif len(key) == 4:\n",
    "        data[key] = DataClean_ODrifters(data[key])"
   ]
  },
  {
   "cell_type": "code",
   "execution_count": null,
   "metadata": {
    "colab": {
     "base_uri": "https://localhost:8080/",
     "height": 206
    },
    "id": "Z3lqcaCkw5St",
    "outputId": "446c2e52-72de-45f4-a66a-4d32278c03cc"
   },
   "outputs": [],
   "source": [
    "data['277'].head(3)"
   ]
  },
  {
   "cell_type": "code",
   "execution_count": null,
   "metadata": {
    "colab": {
     "base_uri": "https://localhost:8080/",
     "height": 206
    },
    "id": "TphOCLDbw5Su",
    "outputId": "6c25d0f2-992c-4aab-be2e-24b2a50d6541"
   },
   "outputs": [],
   "source": [
    "data[\"0119\"].head(3)"
   ]
  },
  {
   "cell_type": "markdown",
   "metadata": {
    "id": "85ZJDHLnw5Sv"
   },
   "source": [
    "### Extracting Data from Deployment Time to Recovery Time"
   ]
  },
  {
   "cell_type": "code",
   "execution_count": null,
   "metadata": {
    "id": "YmbENDQzw5Sv"
   },
   "outputs": [],
   "source": [
    "# Extract Data within the Deployment and Recovery time\n",
    "\n",
    "def extractData(key, data, log_df):\n",
    "\n",
    "    deploy_time = log_df[\"Deployment Time\"][log_df[\"Name\"] == float(key)]\n",
    "    recov_time = log_df[\"Time of Recovery\"][log_df[\"Name\"] == float(key)]\n",
    "\n",
    "    deploy_bool = np.array([(data[key][\"Position time\"][i] > deploy_time).to_numpy() for i in range(len(data[key]))]).flatten()\n",
    "    recov_bool = np.array([(data[key][\"Position time\"][i] < recov_time).to_numpy() for i in range(len(data[key]))]).flatten()\n",
    "\n",
    "    cleaning_bool = deploy_bool & recov_bool\n",
    "    data[key] = data[key][cleaning_bool]\n",
    "    data[key].reset_index(inplace = True)\n",
    "    \n",
    "    return data"
   ]
  },
  {
   "cell_type": "code",
   "execution_count": null,
   "metadata": {
    "id": "iHtxKCX-w5Sv"
   },
   "outputs": [],
   "source": [
    "for key in data.keys():\n",
    "    data = extractData(key, data, log_df)\n",
    "    \n",
    "# All data has been cleaned and extracted at this point"
   ]
  },
  {
   "cell_type": "code",
   "execution_count": null,
   "metadata": {
    "colab": {
     "base_uri": "https://localhost:8080/",
     "height": 206
    },
    "id": "N_IQ497yw5Sv",
    "outputId": "1537c786-b957-4b13-ec61-fc8314eaa408"
   },
   "outputs": [],
   "source": [
    "data[\"0119\"].tail(3)"
   ]
  },
  {
   "cell_type": "code",
   "execution_count": null,
   "metadata": {
    "colab": {
     "base_uri": "https://localhost:8080/",
     "height": 206
    },
    "id": "TfSkndPvw5Sw",
    "outputId": "3ffa4aa7-a987-478e-f20d-4158e9c08e3d"
   },
   "outputs": [],
   "source": [
    "data[\"277\"].head(3)"
   ]
  },
  {
   "cell_type": "markdown",
   "metadata": {
    "id": "xxTZEJcTLOIO"
   },
   "source": [
    "## **Analysis**"
   ]
  },
  {
   "cell_type": "markdown",
   "metadata": {
    "id": "eniMdx41w5Sw"
   },
   "source": [
    "### Computing the Trajectory Velocity\n",
    "\n",
    "By: Chin"
   ]
  },
  {
   "cell_type": "code",
   "execution_count": null,
   "metadata": {
    "id": "InNTz6RRw5Sw"
   },
   "outputs": [],
   "source": [
    "# approximate radius of earth in km\n",
    "R = 6373.0\n",
    "\n",
    "\n",
    "# create vectorize function to compute velocity\n",
    "# #input time values in HH:MM:SS, time2 must be greater than time1 obviously\n",
    "def calVelocity(data):\n",
    "    # select columns for latitude, longtitude and time\n",
    "    df_lat = np.array(data[\"Latitude\"])\n",
    "    df_long = np.array(data[\"Longitude\"])\n",
    "    df_time = data[\"Position time\"]\n",
    "    df_time = pd.to_datetime(df_time.astype(str), format='%H:%M:%S')\n",
    "    \n",
    "    # compute delta time\n",
    "    d_time = np.array(df_time[1:]) - df_time[:-1]\n",
    "    d_time = d_time.apply(lambda dt_i : dt_i.seconds/60.0)\n",
    "    \n",
    "    # compute distance from lat,long\n",
    "    rad_lat = np.radians(df_lat)\n",
    "    rad_long = np.radians(df_long)\n",
    "    d_lat = rad_lat[1:] - np.array(rad_lat[:-1])\n",
    "    d_long = rad_long[1:] - np.array(rad_long[:-1]) \n",
    "    \n",
    "    a = np.sin(d_lat / 2.0)**2 + np.cos(rad_lat[:-1]) * np.cos(rad_lat[1:]) * np.sin(d_long / 2)**2\n",
    "    c = 2.0 * np.arctan2(np.sqrt(a), np.sqrt(1 - a))\n",
    "    \n",
    "    distance = R * c\n",
    "    velocity = distance*1000.0/60.0/np.array(d_time, dtype=float)\n",
    "    return pd.Series(np.append(0.0, velocity))"
   ]
  },
  {
   "cell_type": "code",
   "execution_count": null,
   "metadata": {
    "id": "932ZAA9f_5Lf"
   },
   "outputs": [],
   "source": [
    "for key in data.keys():\n",
    "    data[key][\"velocity\"] = calVelocity(data[key])\n",
    "    data[key].drop(\"index\", inplace = True, axis = 1) # Dropping unncessary index\n",
    "    data [key] = data[key].iloc[1:] # Removing the first row (where v = 0)"
   ]
  },
  {
   "cell_type": "code",
   "execution_count": null,
   "metadata": {
    "colab": {
     "base_uri": "https://localhost:8080/",
     "height": 206
    },
    "id": "IDF1BdHLV36S",
    "outputId": "d36b649b-dcfb-4580-d28a-9491681c815d"
   },
   "outputs": [],
   "source": [
    "data ['8436'].head(3)"
   ]
  },
  {
   "cell_type": "markdown",
   "metadata": {
    "id": "kIfmLhUkw5Sw"
   },
   "source": [
    "### Exporting the Cleaned Data (with Velocities)"
   ]
  },
  {
   "cell_type": "code",
   "execution_count": null,
   "metadata": {
    "id": "LMdazAnJw5Sw"
   },
   "outputs": [],
   "source": [
    "for key in data.keys():\n",
    "    data[key].to_csv(f'{path}/CleanedDriftersData/{key}.csv')\n",
    "\n",
    "# All the cleaned data has been exported to a folder for any necessary external use"
   ]
  },
  {
   "cell_type": "markdown",
   "metadata": {
    "id": "Ja2gNjmq_H6X"
   },
   "source": [
    "### Visualizing the Trajectories and Velocities on Graph\n",
    "By: Farooq and Maria"
   ]
  },
  {
   "cell_type": "code",
   "execution_count": null,
   "metadata": {
    "id": "nXHfd1gdje8L"
   },
   "outputs": [],
   "source": [
    "# rgb tuple to hexadecimal conversion\n",
    "def rgb2hex(rgb):\n",
    "    rgb = [hex(int(256*x)) for x in rgb]\n",
    "    r, g, b = [str(x)[2:] for x in rgb]\n",
    "    return f\"#{r}{g}{b}\""
   ]
  },
  {
   "cell_type": "code",
   "execution_count": null,
   "metadata": {
    "colab": {
     "base_uri": "https://localhost:8080/"
    },
    "id": "W0P7pMuskjib",
    "outputId": "ceed8128-debe-4ffa-8bb6-a3371f1f2377"
   },
   "outputs": [],
   "source": [
    "# Determining the minimum and maximum velocities in the entire data\n",
    "\n",
    "min_vel = 50\n",
    "max_vel = 0\n",
    "\n",
    "for key in data.keys():\n",
    "    min_value = np.min(data[key][\"velocity\"])\n",
    "    max_value = np.max(data[key][\"velocity\"])\n",
    "\n",
    "    min_vel = min_value if min_value < min_vel else min_vel\n",
    "    max_vel = max_value if max_value > max_vel else max_vel\n",
    "\n",
    "\n",
    "min_vel, max_vel"
   ]
  },
  {
   "cell_type": "markdown",
   "metadata": {
    "id": "kYJ3rxB6HhyZ"
   },
   "source": [
    "Plotting the Trajectories and Velocities for Each Drifter"
   ]
  },
  {
   "cell_type": "code",
   "execution_count": null,
   "metadata": {
    "id": "ZM4slE8yArft"
   },
   "outputs": [],
   "source": [
    "min_lat = 100\n",
    "max_lat = 0\n",
    "min_lon = 100\n",
    "max_lon = 0\n",
    "\n",
    "for key in data.keys():\n",
    "    min_lat_val = np.min(data[key][\"Latitude\"])\n",
    "    min_lon_val = np.min(data[key][\"Longitude\"])\n",
    "    max_lat_val = np.max(data[key][\"Latitude\"])\n",
    "    max_lon_val = np.max(data[key][\"Longitude\"])\n",
    "\n",
    "    min_lat = min_lat_val if min_lat_val < min_lat else min_lat\n",
    "    max_lat = max_lat_val if max_lat_val > max_lat else max_lat\n",
    "    min_lon = min_lon_val if min_lon_val < min_lon else min_lon\n",
    "    max_lon = max_lon_val if max_lon_val > max_lon else max_lon\n",
    "\n",
    "lat_centre = (min_lat + max_lat)/2\n",
    "lon_centre= (min_lon + max_lon)/2\n",
    "\n",
    "lat_centre, lon_centre"
   ]
  },
  {
   "cell_type": "code",
   "execution_count": null,
   "metadata": {
    "id": "nip0XSlNIGLr"
   },
   "outputs": [],
   "source": [
    "# Initializing the Map\n",
    "map = folium.Map(location = [lat_centre, lon_centre], zoom_start = 14.50,\n",
    "                min_zoom=14, max_zoom=16)"
   ]
  },
  {
   "cell_type": "code",
   "execution_count": null,
   "metadata": {
    "id": "5rMIZZcoHhe5"
   },
   "outputs": [],
   "source": [
    "def plot_vel_traj(map, df):\n",
    "    folium.Marker([ data[key][\"Latitude\"][1], data[key][\"Longitude\"][1] ],\n",
    "              #popup = key,\n",
    "              icon=folium.DivIcon(html=f\"\"\"<div style=\"font-family: courier new; color: blue\">{f\"{key}\"}</div>\"\"\")\n",
    "              ).add_to(map)\n",
    " \n",
    "    folium.Marker([ data[key][\"Latitude\"].iloc[-1], data[key][\"Longitude\"].iloc[-1] ],\n",
    "              #popup = folium.Popup(f'{key}', parse_html=True),\n",
    "              icon=folium.DivIcon(html=f\"\"\"<div style=\"font-family: courier new; color: blue\">{f\"{key} end\"}</div>\"\"\")\n",
    "              ).add_to(map)\n",
    "\n",
    "    color_mapper = cm.ScalarMappable(cmap=cm.OrRd)\n",
    "    rgb_values = [c[:3] for c in color_mapper.to_rgba(data[key][\"velocity\"])] # keep rgb and drop the \"a\" column\n",
    "    colors = [rgb2hex(rgb) for rgb in rgb_values]\n",
    "\n",
    "    start = False\n",
    "\n",
    "    for lat, lon, vel, col in zip(data[key][\"Latitude\"], data[key][\"Longitude\"], data[key][\"velocity\"], colors):\n",
    "        if start:\n",
    "            folium.PolyLine([[prev_lat, prev_long], [lat, lon]], color='white', weight=2\n",
    "                            ).add_to(map)\n",
    "        else:\n",
    "            start = True\n",
    "\n",
    "        prev_lat = lat\n",
    "        prev_long = lon\n",
    "\n",
    "        folium.CircleMarker(location=(lat,lon),radius=4, fill=True, fill_color=col, \n",
    "                            fill_opacity=0.7, stroke=False).add_to(map)\n",
    "\n",
    "    return map"
   ]
  },
  {
   "cell_type": "code",
   "execution_count": null,
   "metadata": {
    "colab": {
     "base_uri": "https://localhost:8080/",
     "height": 1000
    },
    "id": "Lk5Od_HtIMqn",
    "outputId": "5e3e5943-f01e-4b47-8d0b-985feaa1da38"
   },
   "outputs": [],
   "source": [
    "for key in data.keys():\n",
    "    map = plot_vel_traj(map, data[key])\n",
    "\n",
    "map.save(f\"{path}/Graphs/TrajAndVelocity.png\")\n",
    "map"
   ]
  },
  {
   "cell_type": "markdown",
   "metadata": {
    "id": "fqvbrmZE9Ez-"
   },
   "source": [
    "### Analysis of Drifter Types"
   ]
  },
  {
   "cell_type": "code",
   "execution_count": null,
   "metadata": {
    "id": "cNmP-87G0Lhw"
   },
   "outputs": [],
   "source": []
  },
  {
   "cell_type": "markdown",
   "metadata": {
    "id": "7m3qxWoC9Myf"
   },
   "source": [
    "### Analysis of Circulation"
   ]
  },
  {
   "cell_type": "code",
   "execution_count": null,
   "metadata": {
    "id": "e-ypHm3f9QdR"
   },
   "outputs": [],
   "source": []
  },
  {
   "cell_type": "markdown",
   "metadata": {
    "id": "GBnbEp6N9RlP"
   },
   "source": [
    "### Analysis of the Daily Variability"
   ]
  },
  {
   "cell_type": "markdown",
   "metadata": {},
   "source": [
    "Collection and Cleaning of Day 1 Data"
   ]
  },
  {
   "cell_type": "code",
   "execution_count": null,
   "metadata": {
    "id": "bH4IjtHF9dJE"
   },
   "outputs": [],
   "source": []
  },
  {
   "cell_type": "markdown",
   "metadata": {},
   "source": [
    "Collecting and Cleaning of Day 3 Data"
   ]
  },
  {
   "cell_type": "code",
   "execution_count": null,
   "metadata": {},
   "outputs": [],
   "source": []
  },
  {
   "cell_type": "markdown",
   "metadata": {
    "id": "5VaO5z0B9352"
   },
   "source": [
    "## **CTD Data Analysis**"
   ]
  },
  {
   "cell_type": "markdown",
   "metadata": {
    "id": "pr0uuD8c9eIH"
   },
   "source": [
    "### Import and Clean the CTD Data\n",
    "By Haleem and Aduragbemi"
   ]
  },
  {
   "cell_type": "code",
   "execution_count": null,
   "metadata": {},
   "outputs": [],
   "source": []
  },
  {
   "cell_type": "markdown",
   "metadata": {
    "id": "ZdGyJEL-9kIf"
   },
   "source": [
    "### Plot the T-S Profile"
   ]
  },
  {
   "cell_type": "code",
   "execution_count": null,
   "metadata": {
    "id": "yRwU07R89mvA"
   },
   "outputs": [],
   "source": []
  },
  {
   "cell_type": "markdown",
   "metadata": {
    "id": "3bjQdj2h9nY-"
   },
   "source": [
    "### Compare the Outputs with 2021 Data"
   ]
  },
  {
   "cell_type": "code",
   "execution_count": null,
   "metadata": {
    "id": "Co_3O9qy9qbi"
   },
   "outputs": [],
   "source": []
  }
 ],
 "metadata": {
  "colab": {
   "collapsed_sections": [],
   "include_colab_link": true,
   "provenance": []
  },
  "kernelspec": {
   "display_name": "Python 3",
   "language": "python",
   "name": "python3"
  },
  "language_info": {
   "codemirror_mode": {
    "name": "ipython",
    "version": 3
   },
   "file_extension": ".py",
   "mimetype": "text/x-python",
   "name": "python",
   "nbconvert_exporter": "python",
   "pygments_lexer": "ipython3",
   "version": "3.7.4"
  }
 },
 "nbformat": 4,
 "nbformat_minor": 1
}
